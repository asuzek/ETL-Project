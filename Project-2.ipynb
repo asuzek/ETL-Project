{
 "cells": [
  {
   "cell_type": "code",
   "execution_count": 3,
   "metadata": {},
   "outputs": [],
   "source": [
    "import pandas as pd\n",
    "from sqlalchemy import create_engine\n",
    "# Dependencies\n",
    "from matplotlib import pyplot as plt\n",
    "from scipy.stats import linregress\n",
    "import numpy as np\n",
    "from matplotlib.pyplot import figure"
   ]
  },
  {
   "cell_type": "code",
   "execution_count": 4,
   "metadata": {},
   "outputs": [],
   "source": [
    "import pymysql\n",
    "pymysql.install_as_MySQLdb()"
   ]
  },
  {
   "cell_type": "markdown",
   "metadata": {
    "slideshow": {
     "slide_type": "-"
    }
   },
   "source": [
    "### Store CSV into DataFrame"
   ]
  },
  {
   "cell_type": "code",
   "execution_count": 5,
   "metadata": {},
   "outputs": [
    {
     "data": {
      "text/html": [
       "<div>\n",
       "<style scoped>\n",
       "    .dataframe tbody tr th:only-of-type {\n",
       "        vertical-align: middle;\n",
       "    }\n",
       "\n",
       "    .dataframe tbody tr th {\n",
       "        vertical-align: top;\n",
       "    }\n",
       "\n",
       "    .dataframe thead th {\n",
       "        text-align: right;\n",
       "    }\n",
       "</style>\n",
       "<table border=\"1\" class=\"dataframe\">\n",
       "  <thead>\n",
       "    <tr style=\"text-align: right;\">\n",
       "      <th></th>\n",
       "      <th>Unnamed: 0</th>\n",
       "      <th>company</th>\n",
       "      <th>location</th>\n",
       "      <th>dates</th>\n",
       "      <th>job-title</th>\n",
       "      <th>summary</th>\n",
       "      <th>pros</th>\n",
       "      <th>cons</th>\n",
       "      <th>advice-to-mgmt</th>\n",
       "      <th>overall-ratings</th>\n",
       "      <th>work-balance-stars</th>\n",
       "      <th>culture-values-stars</th>\n",
       "      <th>carrer-opportunities-stars</th>\n",
       "      <th>comp-benefit-stars</th>\n",
       "      <th>senior-mangemnet-stars</th>\n",
       "      <th>helpful-count</th>\n",
       "      <th>link</th>\n",
       "    </tr>\n",
       "  </thead>\n",
       "  <tbody>\n",
       "    <tr>\n",
       "      <th>0</th>\n",
       "      <td>1</td>\n",
       "      <td>google</td>\n",
       "      <td>none</td>\n",
       "      <td>Dec 11, 2018</td>\n",
       "      <td>Current Employee - Anonymous Employee</td>\n",
       "      <td>Best Company to work for</td>\n",
       "      <td>People are smart and friendly</td>\n",
       "      <td>Bureaucracy is slowing things down</td>\n",
       "      <td>none</td>\n",
       "      <td>5.0</td>\n",
       "      <td>4.0</td>\n",
       "      <td>5.0</td>\n",
       "      <td>5.0</td>\n",
       "      <td>4.0</td>\n",
       "      <td>5.0</td>\n",
       "      <td>0</td>\n",
       "      <td>https://www.glassdoor.com/Reviews/Google-Revie...</td>\n",
       "    </tr>\n",
       "    <tr>\n",
       "      <th>1</th>\n",
       "      <td>2</td>\n",
       "      <td>google</td>\n",
       "      <td>Mountain View, CA</td>\n",
       "      <td>Jun 21, 2013</td>\n",
       "      <td>Former Employee - Program Manager</td>\n",
       "      <td>Moving at the speed of light, burn out is inev...</td>\n",
       "      <td>1) Food, food, food. 15+ cafes on main campus ...</td>\n",
       "      <td>1) Work/life balance. What balance? All those ...</td>\n",
       "      <td>1) Don't dismiss emotional intelligence and ad...</td>\n",
       "      <td>4.0</td>\n",
       "      <td>2.0</td>\n",
       "      <td>3.0</td>\n",
       "      <td>3.0</td>\n",
       "      <td>5.0</td>\n",
       "      <td>3.0</td>\n",
       "      <td>2094</td>\n",
       "      <td>https://www.glassdoor.com/Reviews/Google-Revie...</td>\n",
       "    </tr>\n",
       "    <tr>\n",
       "      <th>2</th>\n",
       "      <td>3</td>\n",
       "      <td>google</td>\n",
       "      <td>New York, NY</td>\n",
       "      <td>May 10, 2014</td>\n",
       "      <td>Current Employee - Software Engineer III</td>\n",
       "      <td>Great balance between big-company security and...</td>\n",
       "      <td>* If you're a software engineer, you're among ...</td>\n",
       "      <td>* It *is* becoming larger, and with it comes g...</td>\n",
       "      <td>Keep the focus on the user. Everything else wi...</td>\n",
       "      <td>5.0</td>\n",
       "      <td>5.0</td>\n",
       "      <td>4.0</td>\n",
       "      <td>5.0</td>\n",
       "      <td>5.0</td>\n",
       "      <td>4.0</td>\n",
       "      <td>949</td>\n",
       "      <td>https://www.glassdoor.com/Reviews/Google-Revie...</td>\n",
       "    </tr>\n",
       "    <tr>\n",
       "      <th>3</th>\n",
       "      <td>4</td>\n",
       "      <td>google</td>\n",
       "      <td>Mountain View, CA</td>\n",
       "      <td>Feb 8, 2015</td>\n",
       "      <td>Current Employee - Anonymous Employee</td>\n",
       "      <td>The best place I've worked and also the most d...</td>\n",
       "      <td>You can't find a more well-regarded company th...</td>\n",
       "      <td>I live in SF so the commute can take between 1...</td>\n",
       "      <td>Keep on NOT micromanaging - that is a huge ben...</td>\n",
       "      <td>5.0</td>\n",
       "      <td>2.0</td>\n",
       "      <td>5.0</td>\n",
       "      <td>5.0</td>\n",
       "      <td>4.0</td>\n",
       "      <td>5.0</td>\n",
       "      <td>498</td>\n",
       "      <td>https://www.glassdoor.com/Reviews/Google-Revie...</td>\n",
       "    </tr>\n",
       "    <tr>\n",
       "      <th>4</th>\n",
       "      <td>5</td>\n",
       "      <td>google</td>\n",
       "      <td>Los Angeles, CA</td>\n",
       "      <td>Jul 19, 2018</td>\n",
       "      <td>Former Employee - Software Engineer</td>\n",
       "      <td>Unique, one of a kind dream job</td>\n",
       "      <td>Google is a world of its own. At every other c...</td>\n",
       "      <td>If you don't work in MTV (HQ), you will be giv...</td>\n",
       "      <td>Promote managers into management for their man...</td>\n",
       "      <td>5.0</td>\n",
       "      <td>5.0</td>\n",
       "      <td>5.0</td>\n",
       "      <td>5.0</td>\n",
       "      <td>5.0</td>\n",
       "      <td>5.0</td>\n",
       "      <td>49</td>\n",
       "      <td>https://www.glassdoor.com/Reviews/Google-Revie...</td>\n",
       "    </tr>\n",
       "  </tbody>\n",
       "</table>\n",
       "</div>"
      ],
      "text/plain": [
       "   Unnamed: 0 company           location          dates  \\\n",
       "0           1  google               none   Dec 11, 2018   \n",
       "1           2  google  Mountain View, CA   Jun 21, 2013   \n",
       "2           3  google       New York, NY   May 10, 2014   \n",
       "3           4  google  Mountain View, CA    Feb 8, 2015   \n",
       "4           5  google    Los Angeles, CA   Jul 19, 2018   \n",
       "\n",
       "                                  job-title  \\\n",
       "0     Current Employee - Anonymous Employee   \n",
       "1         Former Employee - Program Manager   \n",
       "2  Current Employee - Software Engineer III   \n",
       "3     Current Employee - Anonymous Employee   \n",
       "4       Former Employee - Software Engineer   \n",
       "\n",
       "                                             summary  \\\n",
       "0                           Best Company to work for   \n",
       "1  Moving at the speed of light, burn out is inev...   \n",
       "2  Great balance between big-company security and...   \n",
       "3  The best place I've worked and also the most d...   \n",
       "4                    Unique, one of a kind dream job   \n",
       "\n",
       "                                                pros  \\\n",
       "0                      People are smart and friendly   \n",
       "1  1) Food, food, food. 15+ cafes on main campus ...   \n",
       "2  * If you're a software engineer, you're among ...   \n",
       "3  You can't find a more well-regarded company th...   \n",
       "4  Google is a world of its own. At every other c...   \n",
       "\n",
       "                                                cons  \\\n",
       "0                 Bureaucracy is slowing things down   \n",
       "1  1) Work/life balance. What balance? All those ...   \n",
       "2  * It *is* becoming larger, and with it comes g...   \n",
       "3  I live in SF so the commute can take between 1...   \n",
       "4  If you don't work in MTV (HQ), you will be giv...   \n",
       "\n",
       "                                      advice-to-mgmt  overall-ratings  \\\n",
       "0                                               none              5.0   \n",
       "1  1) Don't dismiss emotional intelligence and ad...              4.0   \n",
       "2  Keep the focus on the user. Everything else wi...              5.0   \n",
       "3  Keep on NOT micromanaging - that is a huge ben...              5.0   \n",
       "4  Promote managers into management for their man...              5.0   \n",
       "\n",
       "  work-balance-stars culture-values-stars carrer-opportunities-stars  \\\n",
       "0                4.0                  5.0                        5.0   \n",
       "1                2.0                  3.0                        3.0   \n",
       "2                5.0                  4.0                        5.0   \n",
       "3                2.0                  5.0                        5.0   \n",
       "4                5.0                  5.0                        5.0   \n",
       "\n",
       "  comp-benefit-stars senior-mangemnet-stars  helpful-count  \\\n",
       "0                4.0                    5.0              0   \n",
       "1                5.0                    3.0           2094   \n",
       "2                5.0                    4.0            949   \n",
       "3                4.0                    5.0            498   \n",
       "4                5.0                    5.0             49   \n",
       "\n",
       "                                                link  \n",
       "0  https://www.glassdoor.com/Reviews/Google-Revie...  \n",
       "1  https://www.glassdoor.com/Reviews/Google-Revie...  \n",
       "2  https://www.glassdoor.com/Reviews/Google-Revie...  \n",
       "3  https://www.glassdoor.com/Reviews/Google-Revie...  \n",
       "4  https://www.glassdoor.com/Reviews/Google-Revie...  "
      ]
     },
     "execution_count": 5,
     "metadata": {},
     "output_type": "execute_result"
    }
   ],
   "source": [
    "# The csv files for the employee reviews of companies including Google\n",
    "reviews_file = \"Resources/employee_reviews.csv\"\n",
    "customer_data_df = pd.read_csv(reviews_file)\n",
    "customer_data_df.head()"
   ]
  },
  {
   "cell_type": "markdown",
   "metadata": {},
   "source": [
    "### Create new data with select columns"
   ]
  },
  {
   "cell_type": "code",
   "execution_count": 6,
   "metadata": {},
   "outputs": [
    {
     "name": "stdout",
     "output_type": "stream",
     "text": [
      "(7819, 17)\n",
      "(2251, 3)\n"
     ]
    },
    {
     "data": {
      "text/html": [
       "<div>\n",
       "<style scoped>\n",
       "    .dataframe tbody tr th:only-of-type {\n",
       "        vertical-align: middle;\n",
       "    }\n",
       "\n",
       "    .dataframe tbody tr th {\n",
       "        vertical-align: top;\n",
       "    }\n",
       "\n",
       "    .dataframe thead th {\n",
       "        text-align: right;\n",
       "    }\n",
       "</style>\n",
       "<table border=\"1\" class=\"dataframe\">\n",
       "  <thead>\n",
       "    <tr style=\"text-align: right;\">\n",
       "      <th></th>\n",
       "      <th>dates</th>\n",
       "      <th>job-title</th>\n",
       "      <th>overall-ratings</th>\n",
       "    </tr>\n",
       "  </thead>\n",
       "  <tbody>\n",
       "    <tr>\n",
       "      <th>0</th>\n",
       "      <td>Dec 11, 2018</td>\n",
       "      <td>Current Employee - Anonymous Employee</td>\n",
       "      <td>5.0</td>\n",
       "    </tr>\n",
       "    <tr>\n",
       "      <th>3</th>\n",
       "      <td>Feb 8, 2015</td>\n",
       "      <td>Current Employee - Anonymous Employee</td>\n",
       "      <td>5.0</td>\n",
       "    </tr>\n",
       "    <tr>\n",
       "      <th>8</th>\n",
       "      <td>Dec 10, 2018</td>\n",
       "      <td>Current Employee - Anonymous Employee</td>\n",
       "      <td>5.0</td>\n",
       "    </tr>\n",
       "    <tr>\n",
       "      <th>9</th>\n",
       "      <td>Dec 9, 2018</td>\n",
       "      <td>Current Employee - Anonymous Employee</td>\n",
       "      <td>5.0</td>\n",
       "    </tr>\n",
       "    <tr>\n",
       "      <th>10</th>\n",
       "      <td>Dec 8, 2018</td>\n",
       "      <td>Current Employee - Anonymous Employee</td>\n",
       "      <td>5.0</td>\n",
       "    </tr>\n",
       "  </tbody>\n",
       "</table>\n",
       "</div>"
      ],
      "text/plain": [
       "            dates                              job-title  overall-ratings\n",
       "0    Dec 11, 2018  Current Employee - Anonymous Employee              5.0\n",
       "3     Feb 8, 2015  Current Employee - Anonymous Employee              5.0\n",
       "8    Dec 10, 2018  Current Employee - Anonymous Employee              5.0\n",
       "9     Dec 9, 2018  Current Employee - Anonymous Employee              5.0\n",
       "10    Dec 8, 2018  Current Employee - Anonymous Employee              5.0"
      ]
     },
     "execution_count": 6,
     "metadata": {},
     "output_type": "execute_result"
    }
   ],
   "source": [
    "# Selecting only from Google employees\n",
    "google_review_df=customer_data_df[customer_data_df[\"company\"]==\"google\"]\n",
    "print(google_review_df.shape)\n",
    "\n",
    "# Create new data with selected columns\n",
    "google_df=google_review_df[[\"dates\",\"job-title\", \"overall-ratings\"]].copy()\n",
    "\n",
    "# Selecting only the current employees and the anonymous reviews to be objective\n",
    "google_df=google_df[google_df[\"job-title\"].str.contains(\"Current\")]\n",
    "google_df=google_df[google_df[\"job-title\"].str.contains(\"Anonymous\")]\n",
    "print(google_df.shape)\n",
    "google_df.head()"
   ]
  },
  {
   "cell_type": "code",
   "execution_count": 7,
   "metadata": {},
   "outputs": [
    {
     "data": {
      "text/html": [
       "<div>\n",
       "<style scoped>\n",
       "    .dataframe tbody tr th:only-of-type {\n",
       "        vertical-align: middle;\n",
       "    }\n",
       "\n",
       "    .dataframe tbody tr th {\n",
       "        vertical-align: top;\n",
       "    }\n",
       "\n",
       "    .dataframe thead th {\n",
       "        text-align: right;\n",
       "    }\n",
       "</style>\n",
       "<table border=\"1\" class=\"dataframe\">\n",
       "  <thead>\n",
       "    <tr style=\"text-align: right;\">\n",
       "      <th></th>\n",
       "      <th>date</th>\n",
       "      <th>job-title</th>\n",
       "      <th>overall-ratings</th>\n",
       "    </tr>\n",
       "  </thead>\n",
       "  <tbody>\n",
       "    <tr>\n",
       "      <th>0</th>\n",
       "      <td>2018-12-01</td>\n",
       "      <td>Current Employee - Anonymous Employee</td>\n",
       "      <td>5.0</td>\n",
       "    </tr>\n",
       "    <tr>\n",
       "      <th>3</th>\n",
       "      <td>2015-02-01</td>\n",
       "      <td>Current Employee - Anonymous Employee</td>\n",
       "      <td>5.0</td>\n",
       "    </tr>\n",
       "    <tr>\n",
       "      <th>8</th>\n",
       "      <td>2018-12-01</td>\n",
       "      <td>Current Employee - Anonymous Employee</td>\n",
       "      <td>5.0</td>\n",
       "    </tr>\n",
       "    <tr>\n",
       "      <th>9</th>\n",
       "      <td>2018-12-01</td>\n",
       "      <td>Current Employee - Anonymous Employee</td>\n",
       "      <td>5.0</td>\n",
       "    </tr>\n",
       "    <tr>\n",
       "      <th>10</th>\n",
       "      <td>2018-12-01</td>\n",
       "      <td>Current Employee - Anonymous Employee</td>\n",
       "      <td>5.0</td>\n",
       "    </tr>\n",
       "  </tbody>\n",
       "</table>\n",
       "</div>"
      ],
      "text/plain": [
       "          date                              job-title  overall-ratings\n",
       "0   2018-12-01  Current Employee - Anonymous Employee              5.0\n",
       "3   2015-02-01  Current Employee - Anonymous Employee              5.0\n",
       "8   2018-12-01  Current Employee - Anonymous Employee              5.0\n",
       "9   2018-12-01  Current Employee - Anonymous Employee              5.0\n",
       "10  2018-12-01  Current Employee - Anonymous Employee              5.0"
      ]
     },
     "execution_count": 7,
     "metadata": {},
     "output_type": "execute_result"
    }
   ],
   "source": [
    "# Convert the date format to a standard date\n",
    "google_df[\"date\"]=google_df.dates.apply(lambda x: pd.to_datetime(x).strftime('%Y-%m-01'))\n",
    "google_df=google_df[[\"date\",\"job-title\", \"overall-ratings\"]].copy()\n",
    "google_df.head()"
   ]
  },
  {
   "cell_type": "code",
   "execution_count": 8,
   "metadata": {},
   "outputs": [
    {
     "data": {
      "text/html": [
       "<div>\n",
       "<style scoped>\n",
       "    .dataframe tbody tr th:only-of-type {\n",
       "        vertical-align: middle;\n",
       "    }\n",
       "\n",
       "    .dataframe tbody tr th {\n",
       "        vertical-align: top;\n",
       "    }\n",
       "\n",
       "    .dataframe thead th {\n",
       "        text-align: right;\n",
       "    }\n",
       "</style>\n",
       "<table border=\"1\" class=\"dataframe\">\n",
       "  <thead>\n",
       "    <tr style=\"text-align: right;\">\n",
       "      <th></th>\n",
       "      <th>overall-ratings</th>\n",
       "      <th>date</th>\n",
       "    </tr>\n",
       "    <tr>\n",
       "      <th>dates</th>\n",
       "      <th></th>\n",
       "      <th></th>\n",
       "    </tr>\n",
       "  </thead>\n",
       "  <tbody>\n",
       "    <tr>\n",
       "      <th>2008-06-01</th>\n",
       "      <td>3.25</td>\n",
       "      <td>2008-06-01</td>\n",
       "    </tr>\n",
       "    <tr>\n",
       "      <th>2008-07-01</th>\n",
       "      <td>5.00</td>\n",
       "      <td>2008-07-01</td>\n",
       "    </tr>\n",
       "    <tr>\n",
       "      <th>2008-09-01</th>\n",
       "      <td>2.00</td>\n",
       "      <td>2008-09-01</td>\n",
       "    </tr>\n",
       "    <tr>\n",
       "      <th>2008-10-01</th>\n",
       "      <td>4.00</td>\n",
       "      <td>2008-10-01</td>\n",
       "    </tr>\n",
       "    <tr>\n",
       "      <th>2009-04-01</th>\n",
       "      <td>4.00</td>\n",
       "      <td>2009-04-01</td>\n",
       "    </tr>\n",
       "  </tbody>\n",
       "</table>\n",
       "</div>"
      ],
      "text/plain": [
       "            overall-ratings        date\n",
       "dates                                  \n",
       "2008-06-01             3.25  2008-06-01\n",
       "2008-07-01             5.00  2008-07-01\n",
       "2008-09-01             2.00  2008-09-01\n",
       "2008-10-01             4.00  2008-10-01\n",
       "2009-04-01             4.00  2009-04-01"
      ]
     },
     "execution_count": 8,
     "metadata": {},
     "output_type": "execute_result"
    }
   ],
   "source": [
    "google_month_df=google_df.groupby(\"date\").mean()\n",
    "google_month_df['date'] = google_month_df.index\n",
    "google_month_df.index.names = ['dates']\n",
    "#google_month_df.reset_index()\n",
    "google_month_df.head()"
   ]
  },
  {
   "cell_type": "markdown",
   "metadata": {},
   "source": [
    "### Store CSV data into a DataFrame"
   ]
  },
  {
   "cell_type": "code",
   "execution_count": 9,
   "metadata": {},
   "outputs": [
    {
     "data": {
      "text/html": [
       "<div>\n",
       "<style scoped>\n",
       "    .dataframe tbody tr th:only-of-type {\n",
       "        vertical-align: middle;\n",
       "    }\n",
       "\n",
       "    .dataframe tbody tr th {\n",
       "        vertical-align: top;\n",
       "    }\n",
       "\n",
       "    .dataframe thead th {\n",
       "        text-align: right;\n",
       "    }\n",
       "</style>\n",
       "<table border=\"1\" class=\"dataframe\">\n",
       "  <thead>\n",
       "    <tr style=\"text-align: right;\">\n",
       "      <th></th>\n",
       "      <th>dates</th>\n",
       "      <th>close</th>\n",
       "    </tr>\n",
       "  </thead>\n",
       "  <tbody>\n",
       "    <tr>\n",
       "      <th>0</th>\n",
       "      <td>2019-04-01</td>\n",
       "      <td>1222.73</td>\n",
       "    </tr>\n",
       "    <tr>\n",
       "      <th>1</th>\n",
       "      <td>2019-04-01</td>\n",
       "      <td>1209.59</td>\n",
       "    </tr>\n",
       "    <tr>\n",
       "      <th>2</th>\n",
       "      <td>2019-04-01</td>\n",
       "      <td>1206.45</td>\n",
       "    </tr>\n",
       "    <tr>\n",
       "      <th>3</th>\n",
       "      <td>2019-04-01</td>\n",
       "      <td>1202.69</td>\n",
       "    </tr>\n",
       "    <tr>\n",
       "      <th>4</th>\n",
       "      <td>2019-04-01</td>\n",
       "      <td>1208.28</td>\n",
       "    </tr>\n",
       "  </tbody>\n",
       "</table>\n",
       "</div>"
      ],
      "text/plain": [
       "        dates    close\n",
       "0  2019-04-01  1222.73\n",
       "1  2019-04-01  1209.59\n",
       "2  2019-04-01  1206.45\n",
       "3  2019-04-01  1202.69\n",
       "4  2019-04-01  1208.28"
      ]
     },
     "execution_count": 9,
     "metadata": {},
     "output_type": "execute_result"
    }
   ],
   "source": [
    "stock_value_file = \"Resources/HistoricalQuotes.csv\"\n",
    "stock_df = pd.read_csv(stock_value_file)\n",
    "stock_df[\"dates\"]=stock_df.date.apply(lambda x: pd.to_datetime(x).strftime('%Y-%m-01'))\n",
    "# Select the necessary colums only, we take closing value as reference.\n",
    "stock_df=stock_df[[\"dates\", \"close\"]]\n",
    "stock_df.head()"
   ]
  },
  {
   "cell_type": "code",
   "execution_count": 10,
   "metadata": {},
   "outputs": [
    {
     "data": {
      "text/html": [
       "<div>\n",
       "<style scoped>\n",
       "    .dataframe tbody tr th:only-of-type {\n",
       "        vertical-align: middle;\n",
       "    }\n",
       "\n",
       "    .dataframe tbody tr th {\n",
       "        vertical-align: top;\n",
       "    }\n",
       "\n",
       "    .dataframe thead th {\n",
       "        text-align: right;\n",
       "    }\n",
       "</style>\n",
       "<table border=\"1\" class=\"dataframe\">\n",
       "  <thead>\n",
       "    <tr style=\"text-align: right;\">\n",
       "      <th></th>\n",
       "      <th>close</th>\n",
       "      <th>date</th>\n",
       "    </tr>\n",
       "    <tr>\n",
       "      <th>dates</th>\n",
       "      <th></th>\n",
       "      <th></th>\n",
       "    </tr>\n",
       "  </thead>\n",
       "  <tbody>\n",
       "    <tr>\n",
       "      <th>2009-04-01</th>\n",
       "      <td>194.243000</td>\n",
       "      <td>2009-04-01</td>\n",
       "    </tr>\n",
       "    <tr>\n",
       "      <th>2009-05-01</th>\n",
       "      <td>202.071835</td>\n",
       "      <td>2009-05-01</td>\n",
       "    </tr>\n",
       "    <tr>\n",
       "      <th>2009-06-01</th>\n",
       "      <td>214.072609</td>\n",
       "      <td>2009-06-01</td>\n",
       "    </tr>\n",
       "    <tr>\n",
       "      <th>2009-07-01</th>\n",
       "      <td>215.844095</td>\n",
       "      <td>2009-07-01</td>\n",
       "    </tr>\n",
       "    <tr>\n",
       "      <th>2009-08-01</th>\n",
       "      <td>231.315957</td>\n",
       "      <td>2009-08-01</td>\n",
       "    </tr>\n",
       "  </tbody>\n",
       "</table>\n",
       "</div>"
      ],
      "text/plain": [
       "                 close        date\n",
       "dates                             \n",
       "2009-04-01  194.243000  2009-04-01\n",
       "2009-05-01  202.071835  2009-05-01\n",
       "2009-06-01  214.072609  2009-06-01\n",
       "2009-07-01  215.844095  2009-07-01\n",
       "2009-08-01  231.315957  2009-08-01"
      ]
     },
     "execution_count": 10,
     "metadata": {},
     "output_type": "execute_result"
    }
   ],
   "source": [
    "stock_month_df=stock_df.groupby(\"dates\").mean()\n",
    "stock_month_df['date'] = stock_month_df.index\n",
    "stock_month_df.head()"
   ]
  },
  {
   "cell_type": "markdown",
   "metadata": {},
   "source": [
    "### Clean DataFrame"
   ]
  },
  {
   "cell_type": "code",
   "execution_count": 11,
   "metadata": {},
   "outputs": [
    {
     "name": "stdout",
     "output_type": "stream",
     "text": [
      "(115, 3)\n"
     ]
    },
    {
     "data": {
      "text/html": [
       "<div>\n",
       "<style scoped>\n",
       "    .dataframe tbody tr th:only-of-type {\n",
       "        vertical-align: middle;\n",
       "    }\n",
       "\n",
       "    .dataframe tbody tr th {\n",
       "        vertical-align: top;\n",
       "    }\n",
       "\n",
       "    .dataframe thead th {\n",
       "        text-align: right;\n",
       "    }\n",
       "</style>\n",
       "<table border=\"1\" class=\"dataframe\">\n",
       "  <thead>\n",
       "    <tr style=\"text-align: right;\">\n",
       "      <th></th>\n",
       "      <th>overall_ratings</th>\n",
       "      <th>date</th>\n",
       "      <th>close</th>\n",
       "    </tr>\n",
       "  </thead>\n",
       "  <tbody>\n",
       "    <tr>\n",
       "      <th>4</th>\n",
       "      <td>4.000000</td>\n",
       "      <td>2009-04-01</td>\n",
       "      <td>194.243000</td>\n",
       "    </tr>\n",
       "    <tr>\n",
       "      <th>5</th>\n",
       "      <td>5.000000</td>\n",
       "      <td>2009-05-01</td>\n",
       "      <td>202.071835</td>\n",
       "    </tr>\n",
       "    <tr>\n",
       "      <th>6</th>\n",
       "      <td>4.000000</td>\n",
       "      <td>2009-06-01</td>\n",
       "      <td>214.072609</td>\n",
       "    </tr>\n",
       "    <tr>\n",
       "      <th>7</th>\n",
       "      <td>2.333333</td>\n",
       "      <td>2009-07-01</td>\n",
       "      <td>215.844095</td>\n",
       "    </tr>\n",
       "    <tr>\n",
       "      <th>8</th>\n",
       "      <td>5.000000</td>\n",
       "      <td>2009-08-01</td>\n",
       "      <td>231.315957</td>\n",
       "    </tr>\n",
       "  </tbody>\n",
       "</table>\n",
       "</div>"
      ],
      "text/plain": [
       "   overall_ratings        date       close\n",
       "4         4.000000  2009-04-01  194.243000\n",
       "5         5.000000  2009-05-01  202.071835\n",
       "6         4.000000  2009-06-01  214.072609\n",
       "7         2.333333  2009-07-01  215.844095\n",
       "8         5.000000  2009-08-01  231.315957"
      ]
     },
     "execution_count": 11,
     "metadata": {},
     "output_type": "execute_result"
    }
   ],
   "source": [
    "data_df=pd.merge(google_month_df, stock_month_df, how='left', on=\"date\",\n",
    "         left_index=False, right_index=False, sort=True,\n",
    "         suffixes=('_rev', '_stock'), copy=True, indicator=False,\n",
    "         validate=None)\n",
    "data_df.dropna(thresh=1)\n",
    "datas_df = data_df[data_df['close'].notnull()]\n",
    "datas_df.columns=[\"overall_ratings\",\"date\", \"close\"]\n",
    "print(datas_df.shape)\n",
    "datas_df.head()"
   ]
  },
  {
   "cell_type": "code",
   "execution_count": 12,
   "metadata": {},
   "outputs": [
    {
     "data": {
      "text/plain": [
       "overall_ratings    float64\n",
       "date                object\n",
       "close              float64\n",
       "dtype: object"
      ]
     },
     "execution_count": 12,
     "metadata": {},
     "output_type": "execute_result"
    }
   ],
   "source": [
    "datas_df.dtypes"
   ]
  },
  {
   "cell_type": "markdown",
   "metadata": {},
   "source": [
    "## Go, run the google_review.sql file to create the database and the tables"
   ]
  },
  {
   "cell_type": "markdown",
   "metadata": {},
   "source": [
    "-- Create and use google database\n",
    "CREATE DATABASE google_db; \n",
    "USE google_db;\n",
    "CREATE TABLE google_review (\n",
    "     id int NOT NULL AUTO_INCREMENT,\n",
    "     overall_ratings float,\n",
    "    date DATE,\n",
    "    close float,\n",
    "    PRIMARY KEY (id)\n",
    ");"
   ]
  },
  {
   "cell_type": "markdown",
   "metadata": {},
   "source": [
    "### Connect to local database"
   ]
  },
  {
   "cell_type": "code",
   "execution_count": 13,
   "metadata": {},
   "outputs": [],
   "source": [
    "rds_connection_string = \"root:sifre@localhost/google_db\"\n",
    "engine = create_engine(f'mysql://{rds_connection_string}')"
   ]
  },
  {
   "cell_type": "markdown",
   "metadata": {},
   "source": [
    "### Check for tables"
   ]
  },
  {
   "cell_type": "code",
   "execution_count": 14,
   "metadata": {},
   "outputs": [
    {
     "data": {
      "text/plain": [
       "['google_review']"
      ]
     },
     "execution_count": 14,
     "metadata": {},
     "output_type": "execute_result"
    }
   ],
   "source": [
    "engine.table_names()"
   ]
  },
  {
   "cell_type": "markdown",
   "metadata": {},
   "source": [
    "### Use pandas to load csv converted DataFrame into database"
   ]
  },
  {
   "cell_type": "code",
   "execution_count": 15,
   "metadata": {},
   "outputs": [],
   "source": [
    "datas_df.to_sql(name='google_review', con=engine, if_exists='append', index=False)"
   ]
  },
  {
   "cell_type": "markdown",
   "metadata": {},
   "source": [
    "### Confirm data has been added by querying the customer_name table\n",
    "* NOTE: can also check using pgAdmin"
   ]
  },
  {
   "cell_type": "code",
   "execution_count": 16,
   "metadata": {},
   "outputs": [
    {
     "data": {
      "text/html": [
       "<div>\n",
       "<style scoped>\n",
       "    .dataframe tbody tr th:only-of-type {\n",
       "        vertical-align: middle;\n",
       "    }\n",
       "\n",
       "    .dataframe tbody tr th {\n",
       "        vertical-align: top;\n",
       "    }\n",
       "\n",
       "    .dataframe thead th {\n",
       "        text-align: right;\n",
       "    }\n",
       "</style>\n",
       "<table border=\"1\" class=\"dataframe\">\n",
       "  <thead>\n",
       "    <tr style=\"text-align: right;\">\n",
       "      <th></th>\n",
       "      <th>id</th>\n",
       "      <th>overall_ratings</th>\n",
       "      <th>date</th>\n",
       "      <th>close</th>\n",
       "    </tr>\n",
       "  </thead>\n",
       "  <tbody>\n",
       "    <tr>\n",
       "      <th>0</th>\n",
       "      <td>1</td>\n",
       "      <td>4.00000</td>\n",
       "      <td>2009-04-01</td>\n",
       "      <td>194.243</td>\n",
       "    </tr>\n",
       "    <tr>\n",
       "      <th>1</th>\n",
       "      <td>2</td>\n",
       "      <td>5.00000</td>\n",
       "      <td>2009-05-01</td>\n",
       "      <td>202.072</td>\n",
       "    </tr>\n",
       "    <tr>\n",
       "      <th>2</th>\n",
       "      <td>3</td>\n",
       "      <td>4.00000</td>\n",
       "      <td>2009-06-01</td>\n",
       "      <td>214.073</td>\n",
       "    </tr>\n",
       "    <tr>\n",
       "      <th>3</th>\n",
       "      <td>4</td>\n",
       "      <td>2.33333</td>\n",
       "      <td>2009-07-01</td>\n",
       "      <td>215.844</td>\n",
       "    </tr>\n",
       "    <tr>\n",
       "      <th>4</th>\n",
       "      <td>5</td>\n",
       "      <td>5.00000</td>\n",
       "      <td>2009-08-01</td>\n",
       "      <td>231.316</td>\n",
       "    </tr>\n",
       "  </tbody>\n",
       "</table>\n",
       "</div>"
      ],
      "text/plain": [
       "   id  overall_ratings        date    close\n",
       "0   1          4.00000  2009-04-01  194.243\n",
       "1   2          5.00000  2009-05-01  202.072\n",
       "2   3          4.00000  2009-06-01  214.073\n",
       "3   4          2.33333  2009-07-01  215.844\n",
       "4   5          5.00000  2009-08-01  231.316"
      ]
     },
     "execution_count": 16,
     "metadata": {},
     "output_type": "execute_result"
    }
   ],
   "source": [
    "data_df=pd.read_sql_query('select * from google_review', con=engine)\n",
    "data_df.head()"
   ]
  },
  {
   "cell_type": "code",
   "execution_count": 17,
   "metadata": {},
   "outputs": [
    {
     "data": {
      "text/plain": [
       "count    230.000000\n",
       "mean       4.289137\n",
       "std        0.437826\n",
       "min        2.333330\n",
       "25%        4.173080\n",
       "50%        4.400000\n",
       "75%        4.544803\n",
       "max        5.000000\n",
       "Name: overall_ratings, dtype: float64"
      ]
     },
     "execution_count": 17,
     "metadata": {},
     "output_type": "execute_result"
    }
   ],
   "source": [
    "data_df[\"overall_ratings\"].describe()"
   ]
  },
  {
   "cell_type": "code",
   "execution_count": 18,
   "metadata": {},
   "outputs": [
    {
     "data": {
      "text/plain": [
       "count     230.000000\n",
       "mean      571.387322\n",
       "std       291.916404\n",
       "min       194.243000\n",
       "25%       303.072500\n",
       "50%       542.980000\n",
       "75%       781.312000\n",
       "max      1240.650000\n",
       "Name: close, dtype: float64"
      ]
     },
     "execution_count": 18,
     "metadata": {},
     "output_type": "execute_result"
    }
   ],
   "source": [
    "data_df[\"close\"].describe()"
   ]
  },
  {
   "cell_type": "code",
   "execution_count": 20,
   "metadata": {},
   "outputs": [],
   "source": [
    "# Set data\n",
    "x_axis = data_df[\"overall_ratings\"]\n",
    "y_axis =data_df[\"close\"]"
   ]
  },
  {
   "cell_type": "code",
   "execution_count": 21,
   "metadata": {},
   "outputs": [
    {
     "name": "stdout",
     "output_type": "stream",
     "text": [
      "271.0942616078576\n",
      "0.40659594924549647\n"
     ]
    }
   ],
   "source": [
    "(slope, intercept, r_value, p_value, std_err) = linregress(x_axis, y_axis)\n",
    "fit = slope * x_axis + intercept\n",
    "print(slope)\n",
    "print(r_value)"
   ]
  },
  {
   "cell_type": "code",
   "execution_count": 22,
   "metadata": {},
   "outputs": [
    {
     "data": {
      "text/plain": [
       "<Figure size 1440x1280 with 0 Axes>"
      ]
     },
     "execution_count": 22,
     "metadata": {},
     "output_type": "execute_result"
    },
    {
     "data": {
      "image/png": "[encoded data removed]",
      "text/plain": [
       "<Figure size 432x288 with 1 Axes>"
      ]
     },
     "metadata": {
      "needs_background": "light"
     },
     "output_type": "display_data"
    },
    {
     "data": {
      "text/plain": [
       "<Figure size 1440x1280 with 0 Axes>"
      ]
     },
     "metadata": {},
     "output_type": "display_data"
    }
   ],
   "source": [
    "# Plot data\n",
    "fig, ax = plt.subplots()\n",
    "\n",
    "fig.suptitle(\"Google Stock Value vs. Employee Review\", fontsize=16, fontweight=\"bold\")\n",
    "\n",
    "# ax.set_xlim(0, 10)\n",
    "# ax.set_ylim(0, 10)\n",
    "\n",
    "ax.set_xlabel(\"Employee Ratings\")\n",
    "ax.set_ylabel(\"Stock Values\")\n",
    "\n",
    "ax.plot(x_axis, y_axis, linewidth=0, marker='o')\n",
    "ax.plot(x_axis, fit, 'b--')\n",
    "figure(num=None, figsize=(18, 16), dpi=80, facecolor='w', edgecolor='k')\n",
    "# plt.show()"
   ]
  },
  {
   "cell_type": "code",
   "execution_count": null,
   "metadata": {},
   "outputs": [],
   "source": []
  }
 ],
 "metadata": {
  "kernelspec": {
   "display_name": "Python 3",
   "language": "python",
   "name": "python3"
  },
  "language_info": {
   "codemirror_mode": {
    "name": "ipython",
    "version": 3
   },
   "file_extension": ".py",
   "mimetype": "text/x-python",
   "name": "python",
   "nbconvert_exporter": "python",
   "pygments_lexer": "ipython3",
   "version": "3.7.1"
  },
  "nteract": {
   "version": "0.12.3"
  }
 },
 "nbformat": 4,
 "nbformat_minor": 2
}
